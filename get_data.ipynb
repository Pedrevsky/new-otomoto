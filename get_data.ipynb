{
 "cells": [
  {
   "cell_type": "code",
   "execution_count": 17,
   "metadata": {},
   "outputs": [],
   "source": [
    "import pandas as pd\n",
    "import requests\n",
    "import json"
   ]
  },
  {
   "cell_type": "code",
   "execution_count": 18,
   "metadata": {},
   "outputs": [],
   "source": [
    "url = \"https://www.otomoto.pl/graphql\"\n",
    "raw_cars = []\n",
    "wanted = [\"id\", \"title\", \"createdAt\", \"shortDescription\", \"url\"]\n",
    "all_parameters = []"
   ]
  },
  {
   "cell_type": "code",
   "execution_count": 19,
   "metadata": {},
   "outputs": [],
   "source": [
    "for page in range(1, 501):\n",
    "    querystring = {\n",
    "        \"operationName\":\"listingScreen\",\n",
    "        \"variables\":\"{\\\"categoryId\\\":\\\"29\\\",\\\"click2BuyExperimentId\\\":\\\"CARS-34184\\\",\\\"click2BuyExperimentVariant\\\":\\\"a\\\",\\\"experiments\\\":[{\\\"key\\\":\\\"MCTA-682\\\",\\\"variant\\\":\\\"a\\\"}],\\\"filters\\\":[{\\\"name\\\":\\\"category_id\\\",\\\"value\\\":\\\"29\\\"}],\\\"includeClick2Buy\\\":true,\\\"includeFiltersCounters\\\":false,\\\"includePriceEvaluation\\\":true,\\\"includePromotedAds\\\":false,\\\"includeRatings\\\":false,\\\"includeSortOptions\\\":false,\\\"maxAge\\\":60,\\\"page\\\":\"+str(page)+\",\\\"parameters\\\":[\\\"offer_type\\\",\\\"make\\\",\\\"model\\\",\\\"version\\\",\\\"generation\\\",\\\"year\\\",\\\"mileage\\\",\\\"engine_capacity\\\",\\\"fuel_type\\\",\\\"engine_power\\\",\\\"color\\\", \\\"colour_type\\\",\\\"gearbox\\\",\\\"transmission\\\", \\\"consumption\\\", \\\"urban_consumption\\\", \\\"body_type\\\", \\\"door_count\\\", \\\"nr_seats\\\", \\\"country_origin\\\",\\\"air_conditioning_type\\\", \\\"user_status\\\", \\\"upholstery_type\\\", \\\"cruisecontrol_type\\\", \\\"alloy_wheels_type\\\"],\\\"searchTerms\\\":null,\\\"sortBy\\\":null}\",\"extensions\":\"{\\\"persistedQuery\\\":{\\\"sha256Hash\\\":\\\"4296766cd60f6b58945af803b580d7d849ed23caa88454ec8e22e5f53a31812e\\\",\\\"version\\\":1}}\"\n",
    "    }\n",
    "    response = requests.request(\"GET\", url, params=querystring)\n",
    "    raw_cars += json.loads(response.text)[\"data\"][\"advertSearch\"][\"edges\"]"
   ]
  },
  {
   "cell_type": "code",
   "execution_count": 25,
   "metadata": {},
   "outputs": [],
   "source": [
    "for car in raw_cars:\n",
    "    parameters = {k: car[\"node\"][k] for k in wanted}\n",
    "    parameters.update({k: car[\"node\"][\"price\"][\"amount\"][k] for k in [\"units\", \"currencyCode\"]})\n",
    "    parameters.update({k: car[\"node\"][\"location\"][k][\"name\"] for k in [\"city\", \"region\"]})\n",
    "    parameters.update({el[\"key\"]: el[\"value\"] for el in car[\"node\"][\"parameters\"]})\n",
    "    parameters.update({\"seller_id\": car[\"node\"][\"sellerLink\"][\"id\"]})\n",
    "    all_parameters.append(parameters)"
   ]
  },
  {
   "cell_type": "code",
   "execution_count": 26,
   "metadata": {},
   "outputs": [],
   "source": [
    "df = pd.DataFrame(all_parameters)\n",
    "df.info()"
   ]
  },
  {
   "cell_type": "code",
   "execution_count": 30,
   "metadata": {},
   "outputs": [],
   "source": [
    "df = df.drop_duplicates()\n",
    "df.to_csv(\"cars.csv\", sep=\";\", index=False)"
   ]
  }
 ],
 "metadata": {
  "kernelspec": {
   "display_name": "Python 3",
   "language": "python",
   "name": "python3"
  },
  "language_info": {
   "codemirror_mode": {
    "name": "ipython",
    "version": 3
   },
   "file_extension": ".py",
   "mimetype": "text/x-python",
   "name": "python",
   "nbconvert_exporter": "python",
   "pygments_lexer": "ipython3",
   "version": "3.10.5"
  },
  "orig_nbformat": 4,
  "vscode": {
   "interpreter": {
    "hash": "ab4dea85cede0db61619bad2a3267bbc3103ef5b9310cce0357b22ad710f879a"
   }
  }
 },
 "nbformat": 4,
 "nbformat_minor": 2
}
