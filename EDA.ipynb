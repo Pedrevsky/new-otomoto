{
 "cells": [
  {
   "cell_type": "code",
   "execution_count": 124,
   "metadata": {},
   "outputs": [],
   "source": [
    "import pandas as pd\n",
    "import numpy as np\n",
    "import matplotlib.pyplot as plt\n",
    "import seaborn as sns"
   ]
  },
  {
   "cell_type": "code",
   "execution_count": 125,
   "metadata": {},
   "outputs": [],
   "source": [
    "df = pd.read_csv(\"cars.csv\", sep=\";\")"
   ]
  },
  {
   "cell_type": "code",
   "execution_count": 126,
   "metadata": {},
   "outputs": [
    {
     "name": "stdout",
     "output_type": "stream",
     "text": [
      "<class 'pandas.core.frame.DataFrame'>\n",
      "RangeIndex: 19664 entries, 0 to 19663\n",
      "Data columns (total 32 columns):\n",
      " #   Column                 Non-Null Count  Dtype  \n",
      "---  ------                 --------------  -----  \n",
      " 0   id                     19664 non-null  int64  \n",
      " 1   title                  19664 non-null  object \n",
      " 2   createdAt              19664 non-null  object \n",
      " 3   shortDescription       18643 non-null  object \n",
      " 4   url                    19664 non-null  object \n",
      " 5   units                  19664 non-null  int64  \n",
      " 6   currencyCode           19664 non-null  object \n",
      " 7   city                   19664 non-null  object \n",
      " 8   region                 19664 non-null  object \n",
      " 9   make                   19664 non-null  object \n",
      " 10  model                  19664 non-null  object \n",
      " 11  year                   19664 non-null  int64  \n",
      " 12  mileage                19544 non-null  float64\n",
      " 13  engine_capacity        19384 non-null  float64\n",
      " 14  fuel_type              19664 non-null  object \n",
      " 15  engine_power           19658 non-null  float64\n",
      " 16  color                  19664 non-null  object \n",
      " 17  gearbox                19640 non-null  object \n",
      " 18  body_type              19664 non-null  object \n",
      " 19  door_count             19558 non-null  float64\n",
      " 20  seller_id              19664 non-null  int64  \n",
      " 21  version                13646 non-null  object \n",
      " 22  generation             13714 non-null  object \n",
      " 23  colour_type            13459 non-null  object \n",
      " 24  transmission           16490 non-null  object \n",
      " 25  urban_consumption      11583 non-null  float64\n",
      " 26  nr_seats               18772 non-null  float64\n",
      " 27  country_origin         13523 non-null  object \n",
      " 28  air_conditioning_type  17636 non-null  object \n",
      " 29  upholstery_type        14769 non-null  object \n",
      " 30  cruisecontrol_type     13406 non-null  object \n",
      " 31  alloy_wheels_type      11760 non-null  object \n",
      "dtypes: float64(6), int64(4), object(22)\n",
      "memory usage: 4.8+ MB\n"
     ]
    }
   ],
   "source": [
    "df.info()"
   ]
  },
  {
   "cell_type": "code",
   "execution_count": 127,
   "metadata": {},
   "outputs": [
    {
     "data": {
      "text/plain": [
       "0         39900\n",
       "1         69900\n",
       "2         31500\n",
       "3        288500\n",
       "4        319600\n",
       "          ...  \n",
       "19659     34999\n",
       "19660     12900\n",
       "19661     83394\n",
       "19662      3990\n",
       "19663     30900\n",
       "Name: units, Length: 19664, dtype: int64"
      ]
     },
     "execution_count": 127,
     "metadata": {},
     "output_type": "execute_result"
    }
   ],
   "source": [
    "df[\"units\"]"
   ]
  },
  {
   "attachments": {},
   "cell_type": "markdown",
   "metadata": {},
   "source": [
    "Lets rename columns to snake case (I prefer it this way)"
   ]
  },
  {
   "cell_type": "code",
   "execution_count": 128,
   "metadata": {},
   "outputs": [],
   "source": [
    "df = df.rename(columns={\"createdAt\": \"created_at\", \"shortDescription\":\"short_description\", \"currencyCode\":\"currency_code\"})"
   ]
  },
  {
   "cell_type": "code",
   "execution_count": 129,
   "metadata": {},
   "outputs": [
    {
     "data": {
      "text/plain": [
       "id                          0\n",
       "title                       0\n",
       "created_at                  0\n",
       "short_description        1021\n",
       "url                         0\n",
       "units                       0\n",
       "currency_code               0\n",
       "city                        0\n",
       "region                      0\n",
       "make                        0\n",
       "model                       0\n",
       "year                        0\n",
       "mileage                   120\n",
       "engine_capacity           280\n",
       "fuel_type                   0\n",
       "engine_power                6\n",
       "color                       0\n",
       "gearbox                    24\n",
       "body_type                   0\n",
       "door_count                106\n",
       "seller_id                   0\n",
       "version                  6018\n",
       "generation               5950\n",
       "colour_type              6205\n",
       "transmission             3174\n",
       "urban_consumption        8081\n",
       "nr_seats                  892\n",
       "country_origin           6141\n",
       "air_conditioning_type    2028\n",
       "upholstery_type          4895\n",
       "cruisecontrol_type       6258\n",
       "alloy_wheels_type        7904\n",
       "dtype: int64"
      ]
     },
     "execution_count": 129,
     "metadata": {},
     "output_type": "execute_result"
    }
   ],
   "source": [
    "df.isnull().sum()"
   ]
  },
  {
   "cell_type": "code",
   "execution_count": 130,
   "metadata": {},
   "outputs": [
    {
     "data": {
      "text/plain": [
       "manual       10234\n",
       "automatic     9406\n",
       "Name: gearbox, dtype: int64"
      ]
     },
     "execution_count": 130,
     "metadata": {},
     "output_type": "execute_result"
    }
   ],
   "source": [
    "df[\"gearbox\"].value_counts()"
   ]
  },
  {
   "cell_type": "code",
   "execution_count": 131,
   "metadata": {},
   "outputs": [],
   "source": [
    "for col in df.select_dtypes(include=['object']).columns:\n",
    "    df[col] = df[col].fillna(\"unknown\")"
   ]
  },
  {
   "cell_type": "code",
   "execution_count": 132,
   "metadata": {},
   "outputs": [],
   "source": [
    "for col in df.select_dtypes(include=['int64', 'float64']).columns:\n",
    "    df[col] = df[col].fillna(-1)"
   ]
  },
  {
   "cell_type": "code",
   "execution_count": 133,
   "metadata": {},
   "outputs": [
    {
     "data": {
      "text/html": [
       "<div>\n",
       "<style scoped>\n",
       "    .dataframe tbody tr th:only-of-type {\n",
       "        vertical-align: middle;\n",
       "    }\n",
       "\n",
       "    .dataframe tbody tr th {\n",
       "        vertical-align: top;\n",
       "    }\n",
       "\n",
       "    .dataframe thead th {\n",
       "        text-align: right;\n",
       "    }\n",
       "</style>\n",
       "<table border=\"1\" class=\"dataframe\">\n",
       "  <thead>\n",
       "    <tr style=\"text-align: right;\">\n",
       "      <th></th>\n",
       "      <th>mileage</th>\n",
       "      <th>engine_capacity</th>\n",
       "      <th>engine_power</th>\n",
       "      <th>door_count</th>\n",
       "      <th>urban_consumption</th>\n",
       "      <th>nr_seats</th>\n",
       "    </tr>\n",
       "  </thead>\n",
       "  <tbody>\n",
       "    <tr>\n",
       "      <th>0</th>\n",
       "      <td>204600.0</td>\n",
       "      <td>1997.0</td>\n",
       "      <td>140.0</td>\n",
       "      <td>5.0</td>\n",
       "      <td>-1.0</td>\n",
       "      <td>-1.0</td>\n",
       "    </tr>\n",
       "    <tr>\n",
       "      <th>1</th>\n",
       "      <td>212000.0</td>\n",
       "      <td>1968.0</td>\n",
       "      <td>177.0</td>\n",
       "      <td>5.0</td>\n",
       "      <td>5.7</td>\n",
       "      <td>5.0</td>\n",
       "    </tr>\n",
       "    <tr>\n",
       "      <th>2</th>\n",
       "      <td>190000.0</td>\n",
       "      <td>1598.0</td>\n",
       "      <td>90.0</td>\n",
       "      <td>5.0</td>\n",
       "      <td>5.0</td>\n",
       "      <td>5.0</td>\n",
       "    </tr>\n",
       "    <tr>\n",
       "      <th>3</th>\n",
       "      <td>-1.0</td>\n",
       "      <td>1969.0</td>\n",
       "      <td>197.0</td>\n",
       "      <td>5.0</td>\n",
       "      <td>-1.0</td>\n",
       "      <td>5.0</td>\n",
       "    </tr>\n",
       "    <tr>\n",
       "      <th>4</th>\n",
       "      <td>-1.0</td>\n",
       "      <td>1969.0</td>\n",
       "      <td>235.0</td>\n",
       "      <td>5.0</td>\n",
       "      <td>-1.0</td>\n",
       "      <td>7.0</td>\n",
       "    </tr>\n",
       "    <tr>\n",
       "      <th>...</th>\n",
       "      <td>...</td>\n",
       "      <td>...</td>\n",
       "      <td>...</td>\n",
       "      <td>...</td>\n",
       "      <td>...</td>\n",
       "      <td>...</td>\n",
       "    </tr>\n",
       "    <tr>\n",
       "      <th>19659</th>\n",
       "      <td>20000.0</td>\n",
       "      <td>1333.0</td>\n",
       "      <td>130.0</td>\n",
       "      <td>5.0</td>\n",
       "      <td>6.0</td>\n",
       "      <td>5.0</td>\n",
       "    </tr>\n",
       "    <tr>\n",
       "      <th>19660</th>\n",
       "      <td>221212.0</td>\n",
       "      <td>1798.0</td>\n",
       "      <td>125.0</td>\n",
       "      <td>5.0</td>\n",
       "      <td>9.0</td>\n",
       "      <td>5.0</td>\n",
       "    </tr>\n",
       "    <tr>\n",
       "      <th>19661</th>\n",
       "      <td>124540.0</td>\n",
       "      <td>1995.0</td>\n",
       "      <td>184.0</td>\n",
       "      <td>5.0</td>\n",
       "      <td>5.0</td>\n",
       "      <td>5.0</td>\n",
       "    </tr>\n",
       "    <tr>\n",
       "      <th>19662</th>\n",
       "      <td>318000.0</td>\n",
       "      <td>1668.0</td>\n",
       "      <td>125.0</td>\n",
       "      <td>5.0</td>\n",
       "      <td>9.0</td>\n",
       "      <td>7.0</td>\n",
       "    </tr>\n",
       "    <tr>\n",
       "      <th>19663</th>\n",
       "      <td>219000.0</td>\n",
       "      <td>1597.0</td>\n",
       "      <td>102.0</td>\n",
       "      <td>5.0</td>\n",
       "      <td>-1.0</td>\n",
       "      <td>5.0</td>\n",
       "    </tr>\n",
       "  </tbody>\n",
       "</table>\n",
       "<p>19664 rows × 6 columns</p>\n",
       "</div>"
      ],
      "text/plain": [
       "        mileage  engine_capacity  engine_power  door_count  urban_consumption  \\\n",
       "0      204600.0           1997.0         140.0         5.0               -1.0   \n",
       "1      212000.0           1968.0         177.0         5.0                5.7   \n",
       "2      190000.0           1598.0          90.0         5.0                5.0   \n",
       "3          -1.0           1969.0         197.0         5.0               -1.0   \n",
       "4          -1.0           1969.0         235.0         5.0               -1.0   \n",
       "...         ...              ...           ...         ...                ...   \n",
       "19659   20000.0           1333.0         130.0         5.0                6.0   \n",
       "19660  221212.0           1798.0         125.0         5.0                9.0   \n",
       "19661  124540.0           1995.0         184.0         5.0                5.0   \n",
       "19662  318000.0           1668.0         125.0         5.0                9.0   \n",
       "19663  219000.0           1597.0         102.0         5.0               -1.0   \n",
       "\n",
       "       nr_seats  \n",
       "0          -1.0  \n",
       "1           5.0  \n",
       "2           5.0  \n",
       "3           5.0  \n",
       "4           7.0  \n",
       "...         ...  \n",
       "19659       5.0  \n",
       "19660       5.0  \n",
       "19661       5.0  \n",
       "19662       7.0  \n",
       "19663       5.0  \n",
       "\n",
       "[19664 rows x 6 columns]"
      ]
     },
     "execution_count": 133,
     "metadata": {},
     "output_type": "execute_result"
    }
   ],
   "source": [
    "# select the float columns\n",
    "df.select_dtypes(include=['float64'])"
   ]
  },
  {
   "cell_type": "code",
   "execution_count": 134,
   "metadata": {},
   "outputs": [
    {
     "data": {
      "text/plain": [
       "id                       0\n",
       "title                    0\n",
       "created_at               0\n",
       "short_description        0\n",
       "url                      0\n",
       "units                    0\n",
       "currency_code            0\n",
       "city                     0\n",
       "region                   0\n",
       "make                     0\n",
       "model                    0\n",
       "year                     0\n",
       "mileage                  0\n",
       "engine_capacity          0\n",
       "fuel_type                0\n",
       "engine_power             0\n",
       "color                    0\n",
       "gearbox                  0\n",
       "body_type                0\n",
       "door_count               0\n",
       "seller_id                0\n",
       "version                  0\n",
       "generation               0\n",
       "colour_type              0\n",
       "transmission             0\n",
       "urban_consumption        0\n",
       "nr_seats                 0\n",
       "country_origin           0\n",
       "air_conditioning_type    0\n",
       "upholstery_type          0\n",
       "cruisecontrol_type       0\n",
       "alloy_wheels_type        0\n",
       "dtype: int64"
      ]
     },
     "execution_count": 134,
     "metadata": {},
     "output_type": "execute_result"
    }
   ],
   "source": [
    "df.isnull().sum()"
   ]
  },
  {
   "cell_type": "markdown",
   "metadata": {},
   "source": [
    "\"unknown\" in object columns and -1 in numeric columns represent missing values"
   ]
  },
  {
   "cell_type": "markdown",
   "metadata": {},
   "source": [
    "### Histogram of price"
   ]
  },
  {
   "cell_type": "code",
   "execution_count": 135,
   "metadata": {},
   "outputs": [
    {
     "data": {
      "text/plain": [
       "PLN    19650\n",
       "EUR       14\n",
       "Name: currency_code, dtype: int64"
      ]
     },
     "execution_count": 135,
     "metadata": {},
     "output_type": "execute_result"
    }
   ],
   "source": [
    "df[\"currency_code\"].value_counts()"
   ]
  },
  {
   "cell_type": "markdown",
   "metadata": {},
   "source": [
    "first lets convert Euro prices into PLN"
   ]
  },
  {
   "cell_type": "code",
   "execution_count": 136,
   "metadata": {},
   "outputs": [],
   "source": [
    "df.loc[df[\"currency_code\"] == \"EUR\", \"units\"] = df[\"units\"] * 0.21\n",
    "df.loc[df[\"currency_code\"] == \"EUR\", \"currency_code\"] = \"PLN\""
   ]
  },
  {
   "cell_type": "code",
   "execution_count": 152,
   "metadata": {},
   "outputs": [
    {
     "data": {
      "image/png": "[encoded data removed]",
      "text/plain": [
       "<Figure size 1800x576 with 1 Axes>"
      ]
     },
     "metadata": {
      "needs_background": "light"
     },
     "output_type": "display_data"
    }
   ],
   "source": [
    "\n",
    "plt.figure(figsize = (25,8))\n",
    "sns.histplot(data=df, x=\"units\")\n",
    "plt.ticklabel_format(style='plain', axis='x')\n",
    "plt.title(\"Histogram of price\")\n",
    "plt.show()"
   ]
  },
  {
   "attachments": {},
   "cell_type": "markdown",
   "metadata": {},
   "source": [
    "Mean, median and mode values of price:"
   ]
  },
  {
   "cell_type": "code",
   "execution_count": 155,
   "metadata": {},
   "outputs": [
    {
     "data": {
      "text/plain": [
       "99890.07108370627"
      ]
     },
     "execution_count": 155,
     "metadata": {},
     "output_type": "execute_result"
    }
   ],
   "source": [
    "df[\"units\"].mean()"
   ]
  },
  {
   "cell_type": "code",
   "execution_count": 157,
   "metadata": {},
   "outputs": [
    {
     "data": {
      "text/plain": [
       "62900.0"
      ]
     },
     "execution_count": 157,
     "metadata": {},
     "output_type": "execute_result"
    }
   ],
   "source": [
    "df[\"units\"].median()"
   ]
  },
  {
   "cell_type": "code",
   "execution_count": 158,
   "metadata": {},
   "outputs": [
    {
     "data": {
      "text/plain": [
       "0    29900.0\n",
       "Name: units, dtype: float64"
      ]
     },
     "execution_count": 158,
     "metadata": {},
     "output_type": "execute_result"
    }
   ],
   "source": [
    "df[\"units\"].mode()"
   ]
  },
  {
   "cell_type": "markdown",
   "metadata": {},
   "source": [
    "Countries of origin:"
   ]
  },
  {
   "cell_type": "code",
   "execution_count": 161,
   "metadata": {},
   "outputs": [
    {
     "data": {
      "text/plain": [
       "pl         7782\n",
       "unknown    6141\n",
       "d          3388\n",
       "usa         561\n",
       "f           495\n",
       "b           334\n",
       "nl          190\n",
       "ch          174\n",
       "i           118\n",
       "s           111\n",
       "a            98\n",
       "dk           72\n",
       "cdn          52\n",
       "cz           36\n",
       "jp           30\n",
       "l            22\n",
       "e            15\n",
       "n            10\n",
       "gb            9\n",
       "fi            7\n",
       "others        5\n",
       "ua            4\n",
       "sk            4\n",
       "irl           2\n",
       "lv            2\n",
       "hr            1\n",
       "gr            1\n",
       "Name: country_origin, dtype: int64"
      ]
     },
     "execution_count": 161,
     "metadata": {},
     "output_type": "execute_result"
    }
   ],
   "source": [
    "df[\"country_origin\"].value_counts()"
   ]
  },
  {
   "cell_type": "markdown",
   "metadata": {},
   "source": [
    "3 most popular countries of origin are: Poland, Germany and USA"
   ]
  },
  {
   "attachments": {},
   "cell_type": "markdown",
   "metadata": {},
   "source": [
    "I will visualize other variables using Power BI (probably)"
   ]
  }
 ],
 "metadata": {
  "kernelspec": {
   "display_name": "Python 3",
   "language": "python",
   "name": "python3"
  },
  "language_info": {
   "codemirror_mode": {
    "name": "ipython",
    "version": 3
   },
   "file_extension": ".py",
   "mimetype": "text/x-python",
   "name": "python",
   "nbconvert_exporter": "python",
   "pygments_lexer": "ipython3",
   "version": "3.10.5"
  },
  "orig_nbformat": 4,
  "vscode": {
   "interpreter": {
    "hash": "ab4dea85cede0db61619bad2a3267bbc3103ef5b9310cce0357b22ad710f879a"
   }
  }
 },
 "nbformat": 4,
 "nbformat_minor": 2
}
